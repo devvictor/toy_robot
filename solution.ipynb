{
 "metadata": {
  "language_info": {
   "codemirror_mode": {
    "name": "ipython",
    "version": 3
   },
   "file_extension": ".py",
   "mimetype": "text/x-python",
   "name": "python",
   "nbconvert_exporter": "python",
   "pygments_lexer": "ipython3",
   "version": "3.7.0-final"
  },
  "orig_nbformat": 2,
  "kernelspec": {
   "name": "python_defaultSpec_1600088876419",
   "display_name": "Python 3.7.0 64-bit"
  }
 },
 "nbformat": 4,
 "nbformat_minor": 2,
 "cells": [
  {
   "cell_type": "code",
   "execution_count": 5,
   "metadata": {},
   "outputs": [],
   "source": [
    "coordinates = [(x,y) for x in range(6) for y in range(6)]"
   ]
  },
  {
   "cell_type": "code",
   "execution_count": 8,
   "metadata": {},
   "outputs": [
    {
     "output_type": "execute_result",
     "data": {
      "text/plain": "[(0, 0),\n (0, 1),\n (0, 2),\n (0, 3),\n (0, 4),\n (0, 5),\n (1, 0),\n (1, 1),\n (1, 2),\n (1, 3),\n (1, 4),\n (1, 5),\n (2, 0),\n (2, 1),\n (2, 2),\n (2, 3),\n (2, 4),\n (2, 5),\n (3, 0),\n (3, 1),\n (3, 2),\n (3, 3),\n (3, 4),\n (3, 5),\n (4, 0),\n (4, 1),\n (4, 2),\n (4, 3),\n (4, 4),\n (4, 5),\n (5, 0),\n (5, 1),\n (5, 2),\n (5, 3),\n (5, 4),\n (5, 5)]"
     },
     "metadata": {},
     "execution_count": 8
    }
   ],
   "source": [
    "coordinates"
   ]
  },
  {
   "cell_type": "code",
   "execution_count": 17,
   "metadata": {
    "tags": []
   },
   "outputs": [
    {
     "output_type": "stream",
     "name": "stdout",
     "text": "['PLACE 0,0,NORTH\\n', 'MOVE\\n', 'LEFT\\n', 'RIGHT\\n', 'REPORT']\n"
    }
   ],
   "source": [
    "with open('cmd1.txt') as fp:\n",
    "    lines = fp.readlines()\n",
    "    print(lines)"
   ]
  },
  {
   "cell_type": "code",
   "execution_count": 23,
   "metadata": {
    "tags": []
   },
   "outputs": [
    {
     "output_type": "stream",
     "name": "stdout",
     "text": "['PLACE', '0,0,NORTH']\n['MOVE']\n['LEFT']\n['RIGHT']\n['REPORT']\n"
    }
   ],
   "source": [
    "for line in lines:\n",
    "    print(line.strip().split())"
   ]
  },
  {
   "cell_type": "code",
   "execution_count": null,
   "metadata": {},
   "outputs": [],
   "source": []
  }
 ]
}